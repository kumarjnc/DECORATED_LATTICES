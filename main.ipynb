{
 "cells": [
  {
   "cell_type": "markdown",
   "metadata": {},
   "source": [
    "<h1>Various script file for Flat-band Lieb lattice<h1>"
   ]
  },
  {
   "cell_type": "markdown",
   "metadata": {},
   "source": [
    "<h3>1. Disperion, DOS, ENTROPY for U=0<h3>"
   ]
  },
  {
   "cell_type": "markdown",
   "metadata": {},
   "source": [
    "<p>This is the python3 script to calculte the dispersion, density of state, and entropy of the non-interacting Lieb lattice<p> $$\\mathcal{\\hat H}_0 = \\sum_{i,j,\\alpha,\\beta,\\sigma} K_{\\alpha,\\beta}(i-j) \\hat{c}^\\dagger_{{i}\\alpha\\sigma} \\hat{c}_{j\\beta\\sigma}$$ \n",
    "    \n",
    "    \n",
    "  <p>where<p>\n",
    "                  $$\\begin{split}\n",
    "           \\widetilde{K}(k) = t\\begin{pmatrix}\n",
    "V & 1 + e^{ik_1}& 1 + e^{ik_2} & 0 \\\\ \n",
    "1 + e^{-ik_1} & 0 & 0 & 1 + e^{ik_2} \\\\\n",
    "1 + e^{-ik_2} & 0 & 0 & 1 + e^{ik_1} \\\\\n",
    "0 & 1 + e^{-ik_2} &  1 + e^{-ik_1} & 0 \\\\\n",
    "\\end{pmatrix}\\,.\n",
    "\\end{split}$$"
   ]
  },
  {
   "cell_type": "code",
   "execution_count": 1,
   "metadata": {},
   "outputs": [],
   "source": [
    "import numpy as np \n",
    "from numpy import tile\n",
    "import matplotlib.pyplot as plt\n",
    "from scipy import linalg as LA\n",
    "import math,cmath\n",
    "pi = math.pi\n",
    "cos = math.cos\n",
    "sin = math.sin\n",
    "exp=np.exp\n",
    "sqrt = math.sqrt\n",
    "log=np.log\n"
   ]
  },
  {
   "cell_type": "code",
   "execution_count": 3,
   "metadata": {},
   "outputs": [
    {
     "name": "stdout",
     "output_type": "stream",
     "text": [
      "1.0\n"
     ]
    }
   ],
   "source": [
    "from numpy.linalg import inv\n",
    "from numpy import zeros\n",
    "import main\n",
    "import params"
   ]
  },
  {
   "cell_type": "code",
   "execution_count": 4,
   "metadata": {},
   "outputs": [
    {
     "name": "stdout",
     "output_type": "stream",
     "text": [
      "1.0 0.0 1.0 20\n",
      "Band structure plot of the square lattice with nearest and next nearest neighbour hopping bl......\n",
      "1 0.5\n",
      "2 0.5\n",
      "3 0.5\n",
      "4 0.5\n",
      "5 0.5\n",
      "6 0.5\n",
      "7 0.5\n",
      "8 0.5\n",
      "9 0.5\n",
      "10 0.5\n",
      "11 0.5\n",
      "12 0.5\n",
      "13 0.5\n",
      "14 0.5\n",
      "15 0.5\n",
      "16 0.5\n",
      "17 0.5\n",
      "18 0.5\n",
      "19 0.5\n",
      "20 0.5\n",
      "21 0.5\n",
      "22 0.5\n",
      "23 0.5\n",
      "24 0.5\n",
      "25 0.5\n",
      "26 0.5\n",
      "27 0.5\n",
      "28 0.5\n",
      "29 0.5\n",
      "30 0.5\n",
      "31 0.5\n",
      "32 0.5\n",
      "33 0.5\n",
      "34 0.5\n",
      "35 0.5\n",
      "36 0.5\n",
      "37 0.5\n",
      "38 0.5\n",
      "39 0.5\n",
      "40 0.5\n",
      "41 0.5\n",
      "42 0.5\n",
      "43 0.5\n",
      "44 0.5\n",
      "45 0.5\n",
      "46 0.5\n",
      "47 0.5\n",
      "48 0.5\n",
      "49 0.5\n",
      "50 0.5\n",
      "51 0.5\n",
      "52 0.5\n",
      "53 0.5\n",
      "54 0.5\n",
      "55 0.5\n",
      "56 0.5\n",
      "57 0.5\n",
      "58 0.5\n",
      "59 0.5\n",
      "60 0.5\n",
      "61 0.5\n",
      "62 0.5\n",
      "63 0.5\n",
      "64 0.5\n",
      "65 0.5\n",
      "66 0.5\n",
      "67 0.5\n",
      "68 0.5\n",
      "69 0.5\n",
      "70 0.5\n",
      "71 0.5\n",
      "72 0.5\n",
      "73 0.5\n",
      "74 0.5\n",
      "75 0.5\n",
      "76 0.5\n",
      "77 0.5\n",
      "78 0.5\n",
      "79 0.5\n",
      "80 0.5\n",
      "81 0.5\n",
      "82 0.5\n",
      "83 0.5\n",
      "84 0.5\n",
      "85 0.5\n",
      "86 0.5\n",
      "87 0.5\n",
      "88 0.5\n",
      "89 0.5\n",
      "90 0.5\n",
      "91 0.5\n",
      "92 0.5\n",
      "93 0.5\n",
      "94 0.5\n",
      "95 0.5\n",
      "96 0.5\n",
      "97 0.5\n",
      "98 0.5\n",
      "99 0.5\n"
     ]
    }
   ],
   "source": [
    "# Now you can call defined function that module as follows\n",
    "main.band(params.t1,params.t2,params.a,params.Nk,params.density,params.mass,params.dim,params.totomega,params.m,params.sigma,square=True)\n",
    "#main.onedim(t1,t2,a,Nk,mass,dim,totomega,square=True)\n",
    "for temp in range(1,100):\n",
    "\tg=main.fermi(params.energy , 0.0 , params.temp)\n",
    "\tprint (temp, g)"
   ]
  },
  {
   "cell_type": "code",
   "execution_count": null,
   "metadata": {},
   "outputs": [],
   "source": [
    "dispersion_data=np.loadtxt(\"dispersion_lieb.dat\")\n",
    "#dispersion_data=np.loadtxt(\"oned.dat\")\n",
    "print (dispersion_data.shape)\n",
    "kvecs = np.loadtxt(\"kvecs.dat\")\n",
    "print (kvecs)\n"
   ]
  },
  {
   "cell_type": "markdown",
   "metadata": {},
   "source": [
    "<p>-----------------------------------------------------------------------------<p>\n",
    "<p> Dispersion relation DMFT <p>"
   ]
  },
  {
   "cell_type": "code",
   "execution_count": null,
   "metadata": {},
   "outputs": [],
   "source": [
    "X,Y=np.meshgrid(kvecs[:,0],kvecs[:,1])\n",
    "Zup=dispersion_data[:,0].reshape(Nk,Nk)\n",
    "Zdw=dispersion_data[:,1].reshape(Nk,Nk)\n",
    "Zflat=dispersion_data[:,2].reshape(Nk,Nk)\n",
    "#Ztop=dispersion_data[:,3].reshape(Nk,Nk)\n",
    "\n"
   ]
  },
  {
   "cell_type": "code",
   "execution_count": null,
   "metadata": {},
   "outputs": [],
   "source": [
    "%matplotlib notebook\n",
    "from matplotlib import interactive\n",
    "interactive(True)\n",
    "from mpl_toolkits.mplot3d import Axes3D\n",
    "from matplotlib import cm\n",
    "from matplotlib.ticker import LinearLocator, FormatStrFormatter\n",
    "\n",
    "fig = plt.figure()\n",
    "ax = fig.gca(projection='3d')\n",
    "# Plot the surface.\n",
    "ax.set_xlabel('$k_x$')\n",
    "ax.set_ylabel('$k_y$')\n",
    "ax.set_zlabel('$E$')\n",
    "\n",
    "\n",
    "surf = ax.plot_surface(X, Y,Zup, cmap=cm.coolwarm,\n",
    "                       linewidth=0, antialiased=False)\n",
    "surf = ax.plot_surface(X, Y,Zdw, cmap=cm.coolwarm,\n",
    "                       linewidth=0, antialiased=False)\n",
    "surf = ax.plot_surface(X, Y,Zflat, cmap=cm.coolwarm,\n",
    "                       linewidth=0, antialiased=False)\n",
    "#surf = ax.plot_surface(X, Y,Ztop, cmap=cm.coolwarm,\n",
    "#                       linewidth=0, antialiased=False)\n",
    "#plt.savefig('dispersion_mass_8_2D.png')\n",
    "plt.show()\n",
    "\n",
    "\n",
    "\n"
   ]
  },
  {
   "cell_type": "code",
   "execution_count": null,
   "metadata": {},
   "outputs": [],
   "source": [
    "wavefn=np.loadtxt(\"wavefn.dat\")\n",
    "print (wavefn.shape)"
   ]
  },
  {
   "cell_type": "code",
   "execution_count": null,
   "metadata": {},
   "outputs": [],
   "source": [
    "wavefn=np.reshape(wavefn,((80,80,4,4,4)))\n",
    "print(wavefn[:,:,0,0,0])\n",
    "Zup=wavefn[:,:,0,0,0]+wavefn[:,:,0,0,1]+wavefn[:,:,0,0,2]+wavefn[:,:,0,0,3]\n",
    "#%matplotlib notebook\n",
    "#from matplotlib import interactive\n",
    "#interactive(True)\n",
    "from mpl_toolkits.mplot3d import Axes3D\n",
    "from matplotlib import cm\n",
    "from matplotlib.ticker import LinearLocator, FormatStrFormatter\n",
    "\n",
    "fig = plt.figure()\n",
    "ax = fig.gca(projection='3d')\n",
    "# Plot the surface.\n",
    "ax.set_xlabel('$k_x$')\n",
    "ax.set_ylabel('$k_y$')\n",
    "ax.set_zlabel('$E$')\n",
    "\n",
    "\n",
    "surf = ax.plot_surface(X, Y,Zup, cmap=cm.coolwarm,\n",
    "                    linewidth=0, antialiased=False)\n",
    "surf = ax.plot_surface(X, Y,Zdw, cmap=cm.coolwarm,\n",
    "                       linewidth=0, antialiased=False)\n",
    "surf = ax.plot_surface(X, Y,Zflat, cmap=cm.coolwarm,\n",
    "                       linewidth=0, antialiased=False)\n",
    "surf = ax.plot_surface(X, Y,Ztop, cmap=cm.coolwarm,\n",
    "                       linewidth=0, antialiased=False)\n",
    "#plt.savefig('dispersion_mass_8_2D.png')\n",
    "plt.show()\n"
   ]
  },
  {
   "cell_type": "code",
   "execution_count": null,
   "metadata": {},
   "outputs": [],
   "source": [
    "dos_data=np.loadtxt(\"dos.dat\")\n",
    "#dos_data1=np.loadtxt(\"dos1.dat\")\n",
    "#dos_data2=np.loadtxt(\"dos2.dat\")\n",
    "#dos_data3=np.loadtxt(\"dos3.dat\")\n",
    "print (dos_data.shape)\n",
    "#print (dos_data1.shape)\n",
    "#print (dos_data2.shape)\n",
    "#print (dos_data3.shape)\n",
    "print (dos_data)"
   ]
  },
  {
   "cell_type": "code",
   "execution_count": null,
   "metadata": {},
   "outputs": [],
   "source": [
    "plt.figure()\n",
    "\n",
    "\n",
    "# Plot the surface.\n",
    "plt.ylabel(r'$\\rho$',size=20)\n",
    "plt.xlabel(r'$\\omega$',size=20)\n",
    "#plt.ylim(0,1)\n",
    "\n",
    "plt.plot()\n",
    "plt.plot(dos_data[:,0],dos_data[:,2])\n",
    "#plt.plot(dos_data[:,0],dos_data2[:,1])\n",
    "#plt.plot(dos_data[:,0],dos_data3[:,1])\n",
    "#plt.plot(dos_data[:,1],dos_data[:,2]+dos_data1[:,2]+dos_data2[:,2])\n",
    "#plt.plot(dos_data[:,0],dos_data[:,4])\n",
    "#plt.gca().legend(('Gc','Gf'))\n",
    "#plt.ylim([0,0.25])\n",
    "#plt.xlim([-2,2])\n",
    "#plt.savefig('oned_dos_V_8_2D.png')\n",
    "plt.show()\n",
    "\n"
   ]
  },
  {
   "cell_type": "code",
   "execution_count": null,
   "metadata": {},
   "outputs": [],
   "source": [
    "\n",
    "tmp=np.loadtxt(\"square_gamma_x_m_gamma.dat\")\n",
    "#tmp[:,2]\n",
    "plt.axvline(x=np.pi,color='grey',linestyle='--')\n",
    "plt.axvline(x=2.0*np.pi,color='grey',linestyle='--')\n",
    "plt.ylabel(r'$\\epsilon_k$',size=20)\n",
    "plt.xlabel(r'$k$',size=20)\n",
    "#plt.plot(tmp[0,tmp[0,:,2])\n",
    "plt.plot(tmp[:,2],tmp[:,3])\n",
    "plt.plot(tmp[:,2],tmp[:,4])\n",
    "plt.plot(tmp[:,2],tmp[:,5])\n",
    "plt.plot(tmp[:,2],tmp[:,6])\n",
    "plt.ylim(-2,2)\n",
    "tick_pos= [0, np.pi , 2*np.pi, 4*np.pi]\n",
    "labels = ['$\\Gamma$', '$X$', '$M$','$\\Gamma$']\n",
    "plt.xticks(tick_pos, labels)\n",
    "\n",
    "#plt.savefig('dispersion_symm_8_2D.png')"
   ]
  },
  {
   "cell_type": "code",
   "execution_count": null,
   "metadata": {},
   "outputs": [],
   "source": [
    "tmp=np.loadtxt(\"square_gamma_x_m_gamma.dat\")\n",
    "#tmp[:,2]\n",
    "\n",
    "plt.ylabel(r'$\\epsilon_k$',size=20)\n",
    "plt.xlabel(r'$k$',size=20)\n",
    "#plt.plot(tmp[0,tmp[0,:,2])\n",
    "plt.plot(tmp[:,0],tmp[:,1])\n",
    "plt.plot(tmp[:,0],tmp[:,2])\n",
    "plt.plot(tmp[:,0],tmp[:,3])\n",
    "plt.plot(tmp[:,0],tmp[:,4])\n",
    "plt.ylim(-6,10)\n",
    "tick_pos= [0, np.pi , 2*np.pi]\n",
    "labels = ['$0$', '$pi$', '$2pi$']\n",
    "plt.xticks(tick_pos, labels)\n",
    "\n",
    "#plt.savefig('oned_dispersion_symm_V_8.png')\n",
    "plt.show()"
   ]
  },
  {
   "cell_type": "code",
   "execution_count": null,
   "metadata": {},
   "outputs": [],
   "source": [
    "entropy_data=np.loadtxt(\"entropy.dat\")\n",
    "print (entropy_data.shape)"
   ]
  },
  {
   "cell_type": "code",
   "execution_count": null,
   "metadata": {},
   "outputs": [],
   "source": [
    "plt.figure()\n",
    "\n",
    "\n",
    "# Plot the surface.\n",
    "plt.ylabel('S')\n",
    "plt.xlabel('T')\n",
    "#plt.ylim(0,5)\n",
    "\n",
    "plt.plot(entropy_data[:,0],entropy_data[:,1])\n",
    "\n",
    "plt.show()"
   ]
  }
 ],
 "metadata": {
  "anaconda-cloud": {},
  "kernelspec": {
   "display_name": "Python 3",
   "language": "python",
   "name": "python3"
  },
  "language_info": {
   "codemirror_mode": {
    "name": "ipython",
    "version": 3
   },
   "file_extension": ".py",
   "mimetype": "text/x-python",
   "name": "python",
   "nbconvert_exporter": "python",
   "pygments_lexer": "ipython3",
   "version": "3.9.1"
  }
 },
 "nbformat": 4,
 "nbformat_minor": 4
}
